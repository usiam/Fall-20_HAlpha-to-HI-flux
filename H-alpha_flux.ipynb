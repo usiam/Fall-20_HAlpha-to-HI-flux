{
 "cells": [
  {
   "cell_type": "code",
   "execution_count": 2,
   "metadata": {},
   "outputs": [],
   "source": [
    "from astropy.table import QTable, Table\n",
    "import numpy as np\n",
    "import matplotlib.pyplot as plt\n",
    "from astropy.io import fits\n",
    "import numpy.ma as ma"
   ]
  },
  {
   "cell_type": "code",
   "execution_count": 3,
   "metadata": {},
   "outputs": [],
   "source": [
    "master_list = QTable.read(\"data/DRPall-master_file.txt\", format=\"ascii.ecsv\")\n",
    "gbtHI = Table.read('data/mangaHIall.fits', format='fits')\n",
    "alfaHI = Table.read('data/manga_dr15_alfalfa.fits', format='fits')\n",
    "maps = fits.open('data/manga-10001-12701-MAPS-HYB10-GAU-MILESHC.fits', format = 'fits')\n",
    "#map_filename = 'data/manga-' + galID[i] + '-MAPS-HYB10-GAU-MILESHC.fits'\n",
    "#maps = fits.open(map_filename, format = 'fits')"
   ]
  },
  {
   "cell_type": "code",
   "execution_count": 4,
   "metadata": {
    "scrolled": true
   },
   "outputs": [],
   "source": [
    "master_list['galID'] = np.empty(len(master_list), dtype='<S12')\n",
    "\n",
    "for i in range(len(master_list)):\n",
    "    galID = str(master_list['MaNGA_plate'][i]) + str('-') +  str(master_list['MaNGA_IFU'][i])\n",
    "    master_list['galID'][i] = galID"
   ]
  },
  {
   "cell_type": "markdown",
   "metadata": {},
   "source": [
    "#### Work to do by Thursday 27th Aug\n",
    ">1) Install marvin\\\n",
    "2) Look at cheatsheet and import maps\\\n",
    "3) work with the map values for one of the galaxies\\\n",
    "4) make a loop for all galaxies\n",
    "5) find ratio to hI flux"
   ]
  },
  {
   "cell_type": "code",
   "execution_count": 5,
   "metadata": {},
   "outputs": [],
   "source": [
    "master_list['FHI'] = np.NaN*np.ones(len(master_list), dtype = float)\n",
    "\n",
    "for i in range(len(alfaHI)):\n",
    "    galID = alfaHI['PLATEIFU'][i]\n",
    "    plate, IFU = galID.split('-')\n",
    "    \n",
    "    # Find the corresponding row index for this galaxy in the MaNGA data table\n",
    "    plate_boolean = master_list['MaNGA_plate'] == int(plate)\n",
    "    IFU_boolean = master_list['MaNGA_IFU'] == int(IFU)\n",
    "    HI_boolean = np.logical_and(plate_boolean, IFU_boolean)\n",
    "   \n",
    "    master_list['FHI'][HI_boolean] = alfaHI['FHI'][i]\n",
    "  "
   ]
  },
  {
   "cell_type": "code",
   "execution_count": 6,
   "metadata": {},
   "outputs": [],
   "source": [
    "for i in range(len(gbtHI)):\n",
    "    galID = gbtHI['plateifu'][i]\n",
    "    plate, IFU = galID.split('-')\n",
    "    \n",
    "    # Find the corresponding row index for this galaxy in the MaNGA data table\n",
    "    plate_boolean = master_list['MaNGA_plate'] == int(plate)\n",
    "    IFU_boolean = master_list['MaNGA_IFU'] == int(IFU)\n",
    "    HI_boolean = np.logical_and(plate_boolean, IFU_boolean)\n",
    "   \n",
    "    master_list['FHI'][HI_boolean] = gbtHI['FHI'][i]\n",
    "  "
   ]
  },
  {
   "cell_type": "code",
   "execution_count": 7,
   "metadata": {},
   "outputs": [],
   "source": [
    "masterlistHI_boolean = np.isfinite(master_list['FHI'])\n",
    "\n",
    "masterlistHI = master_list[masterlistHI_boolean]"
   ]
  },
  {
   "cell_type": "code",
   "execution_count": 8,
   "metadata": {},
   "outputs": [],
   "source": [
    "masterlist_boolean = masterlistHI['FHI'] > 0\n",
    "masterList = masterlistHI[masterlist_boolean]"
   ]
  },
  {
   "cell_type": "code",
   "execution_count": 9,
   "metadata": {},
   "outputs": [],
   "source": [
    "#maps.info() #gives all the layers in the map fits file\n",
    "Ha_map = maps['EMLINE_GFLUX'].data[18] # H-alpha is the 19th layer of the maps in 'EMLINE_GLFUX'\n",
    "#maps['EMLINE_GFLUX'].header #header info inside EMLINE GFLUX"
   ]
  },
  {
   "cell_type": "code",
   "execution_count": 10,
   "metadata": {},
   "outputs": [],
   "source": [
    "# H-alpha mask extension #QUALDATA gives the 'quality' of the data \n",
    "Ha_mask_extension = maps['EMLINE_GFLUX'].header['QUALDATA']\n",
    "masked_Ha_map = ma.array(Ha_map, mask=maps[Ha_mask_extension].data[18] > 0)"
   ]
  },
  {
   "cell_type": "markdown",
   "metadata": {},
   "source": [
    "1) See the data (plot)\\ (plt.imshow)\n",
    "2) Add up the flux values in the map arrays\\\n",
    "3) Write a loop for all the data \n"
   ]
  },
  {
   "cell_type": "code",
   "execution_count": 11,
   "metadata": {},
   "outputs": [
    {
     "data": {
      "image/png": "[encoded data removed]",
      "text/plain": [
       "<Figure size 720x720 with 2 Axes>"
      ]
     },
     "metadata": {
      "needs_background": "light"
     },
     "output_type": "display_data"
    }
   ],
   "source": [
    "fig, axs = plt.subplots(1, 2, figsize = (10,10))\n",
    "axs[0].imshow(Ha_map, origin = 'lower')\n",
    "axs[1].imshow(masked_Ha_map, origin = 'lower')\n",
    "plt.show()"
   ]
  },
  {
   "cell_type": "code",
   "execution_count": 12,
   "metadata": {},
   "outputs": [],
   "source": [
    "total_Ha_flux = np.sum(masked_Ha_map)"
   ]
  },
  {
   "cell_type": "code",
   "execution_count": 13,
   "metadata": {},
   "outputs": [
    {
     "data": {
      "text/plain": [
       "1898.2083"
      ]
     },
     "execution_count": 13,
     "metadata": {},
     "output_type": "execute_result"
    }
   ],
   "source": [
    "total_Ha_flux"
   ]
  },
  {
   "cell_type": "code",
   "execution_count": 14,
   "metadata": {},
   "outputs": [],
   "source": [
    "masterList['Total_Ha_flux'] = np.NaN*np.ones(len(masterList))"
   ]
  },
  {
   "cell_type": "code",
   "execution_count": 15,
   "metadata": {
    "scrolled": false
   },
   "outputs": [
    {
     "data": {
      "text/html": [
       "<i>QTable length=540</i>\n",
       "<table id=\"table1394814378528\" class=\"table-striped table-bordered table-condensed\">\n",
       "<thead><tr><th>MaNGA_plate</th><th>MaNGA_IFU</th><th>NSAID</th><th>ra</th><th>dec</th><th>redshift</th><th>ba</th><th>phi</th><th>Mstar</th><th>rabsmag</th><th>plate</th><th>MJD</th><th>fiberID</th><th>index</th><th>imc</th><th>aimc</th><th>smoothness_score</th><th>logHI</th><th>WF50</th><th>WP20</th><th>galID</th><th>FHI</th><th>Total_Ha_flux</th></tr></thead>\n",
       "<thead><tr><th></th><th></th><th></th><th>deg</th><th>deg</th><th></th><th></th><th>deg</th><th>solMass</th><th></th><th></th><th></th><th></th><th></th><th></th><th></th><th></th><th>dex(solMass)</th><th>km / s</th><th>km / s</th><th></th><th></th><th></th></tr></thead>\n",
       "<thead><tr><th>int64</th><th>int64</th><th>int64</th><th>float64</th><th>float64</th><th>float64</th><th>float64</th><th>float64</th><th>float64</th><th>float64</th><th>int64</th><th>int64</th><th>int64</th><th>int64</th><th>float64</th><th>float64</th><th>float64</th><th>float64</th><th>float64</th><th>float64</th><th>bytes12</th><th>float64</th><th>float64</th></tr></thead>\n",
       "<tr><td>8939</td><td>12704</td><td>315868</td><td>125.687370639</td><td>24.2969703898</td><td>0.012853</td><td>0.844731</td><td>122.186</td><td>11279500000.0</td><td>-20.2376</td><td>1585</td><td>52962</td><td>25</td><td>1819519</td><td>2.0</td><td>-2.0</td><td>nan</td><td>10.050000190734863</td><td>450.30642298214684</td><td>534.3885351572364</td><td>8939-12704</td><td>14.739999771118164</td><td>nan</td></tr>\n",
       "<tr><td>9507</td><td>12704</td><td>647713</td><td>129.600036621</td><td>25.7545013428</td><td>0.0181814</td><td>0.850208</td><td>49.2228</td><td>15330500000.0</td><td>-20.4859</td><td>1930</td><td>53347</td><td>477</td><td>1855126</td><td>2.0</td><td>26.45</td><td>nan</td><td>9.470000267028809</td><td>157.66071995536652</td><td>180.45504091276888</td><td>9507-12704</td><td>1.909999966621399</td><td>nan</td></tr>\n",
       "<tr><td>8942</td><td>12703</td><td>231299</td><td>125.21338865</td><td>28.4058888443</td><td>0.0154449</td><td>0.461519</td><td>115.538</td><td>550312000.0</td><td>-17.0032</td><td>1207</td><td>52672</td><td>201</td><td>1035105</td><td>2.0</td><td>55.1</td><td>nan</td><td>9.199999809265137</td><td>204.02864720354242</td><td>278.4258334766573</td><td>8942-12703</td><td>1.4700000286102295</td><td>nan</td></tr>\n",
       "<tr><td>8940</td><td>12702</td><td>173375</td><td>120.087417603</td><td>26.613527298</td><td>0.0267379</td><td>0.734859</td><td>114.25</td><td>44110400000.0</td><td>-21.337</td><td>929</td><td>52581</td><td>142</td><td>878643</td><td>2.0</td><td>0.0</td><td>nan</td><td>10.140000343322754</td><td>594.2025475719039</td><td>549.9691073060053</td><td>8940-12702</td><td>4.21999979019165</td><td>nan</td></tr>\n",
       "<tr><td>8982</td><td>12702</td><td>484109</td><td>202.623387924</td><td>26.5145483668</td><td>0.0250234</td><td>0.391208</td><td>48.8718</td><td>238771000.0</td><td>-17.2953</td><td>2244</td><td>53795</td><td>637</td><td>2226374</td><td>2.0</td><td>115.14</td><td>nan</td><td>9.050000190734863</td><td>68.45576811268691</td><td>193.4147099056868</td><td>8982-12702</td><td>0.3799999952316284</td><td>nan</td></tr>\n",
       "<tr><td>9493</td><td>12702</td><td>407342</td><td>129.012733645</td><td>23.9118395792</td><td>0.0121797</td><td>0.435525</td><td>46.151</td><td>210392000.0</td><td>-16.4453</td><td>1929</td><td>53349</td><td>526</td><td>1876778</td><td>2.0</td><td>105.88</td><td>nan</td><td>9.069999694824219</td><td>156.63592510904022</td><td>213.2914724889058</td><td>9493-12702</td><td>1.690000057220459</td><td>nan</td></tr>\n",
       "<tr><td>8934</td><td>12702</td><td>483200</td><td>195.358852894</td><td>27.8859851519</td><td>0.018252</td><td>0.930891</td><td>127.324</td><td>71801300000.0</td><td>-21.7127</td><td>2241</td><td>54169</td><td>592</td><td>2243644</td><td>2.0</td><td>17.09</td><td>nan</td><td>9.229999542236328</td><td>490.01214865324755</td><td>347.6622507204606</td><td>8934-12702</td><td>0.6899999976158142</td><td>nan</td></tr>\n",
       "<tr><td>9507</td><td>12701</td><td>316095</td><td>128.250742039</td><td>26.0140506945</td><td>0.0176283</td><td>0.293348</td><td>111.051</td><td>4734820000.0</td><td>-19.297</td><td>1586</td><td>52945</td><td>13</td><td>1151344</td><td>2.0</td><td>36.75</td><td>nan</td><td>9.619999885559082</td><td>301.2534253027302</td><td>313.8056513570106</td><td>9507-12701</td><td>3.809999942779541</td><td>nan</td></tr>\n",
       "<tr><td>8322</td><td>3701</td><td>443125</td><td>199.066481776</td><td>30.264531572</td><td>0.0491864</td><td>0.871888</td><td>156.049</td><td>30956900000.0</td><td>-21.6512</td><td>2104</td><td>53852</td><td>123</td><td>1986946</td><td>2.0</td><td>59.25</td><td>0.39676402840772856</td><td>10.390000343322754</td><td>641.2019174447271</td><td>575.856499106411</td><td>8322-3701</td><td>2.2899999618530273</td><td>nan</td></tr>\n",
       "<tr><td>...</td><td>...</td><td>...</td><td>...</td><td>...</td><td>...</td><td>...</td><td>...</td><td>...</td><td>...</td><td>...</td><td>...</td><td>...</td><td>...</td><td>...</td><td>...</td><td>...</td><td>...</td><td>...</td><td>...</td><td>...</td><td>...</td><td>...</td></tr>\n",
       "<tr><td>8552</td><td>3702</td><td>340771</td><td>226.135574018</td><td>43.8776584965</td><td>0.0388146</td><td>0.956824</td><td>18.7763</td><td>1235740000.0</td><td>-18.6935</td><td>1677</td><td>53148</td><td>278</td><td>1372244</td><td>2.0</td><td>39.47</td><td>0.9693505491785602</td><td>9.489999771118164</td><td>309.631704678315</td><td>361.2369887913675</td><td>8552-3702</td><td>0.4399999976158142</td><td>nan</td></tr>\n",
       "<tr><td>9044</td><td>6101</td><td>334455</td><td>230.686983636</td><td>29.7696005075</td><td>0.0229164</td><td>0.832627</td><td>99.2697</td><td>7888640000.0</td><td>-19.8646</td><td>1651</td><td>53442</td><td>261</td><td>1438795</td><td>2.0</td><td>57.64</td><td>0.37445618522185575</td><td>9.850000381469727</td><td>417.09236428054265</td><td>334.0350103545471</td><td>9044-6101</td><td>3.0399999618530273</td><td>nan</td></tr>\n",
       "<tr><td>9088</td><td>1901</td><td>313897</td><td>242.855211093</td><td>27.2935458581</td><td>0.0259349</td><td>0.430695</td><td>139.314</td><td>3067740000.0</td><td>-18.6246</td><td>1577</td><td>53495</td><td>214</td><td>1434515</td><td>2.0</td><td>39.23</td><td>0.6855408628087983</td><td>9.40999984741211</td><td>196.12241736436167</td><td>197.2304536206575</td><td>9088-1901</td><td>0.8799999952316284</td><td>nan</td></tr>\n",
       "<tr><td>9088</td><td>6102</td><td>281206</td><td>242.751057523</td><td>26.642849101</td><td>0.0311977</td><td>0.391187</td><td>44.4704</td><td>15076300000.0</td><td>-20.0566</td><td>1393</td><td>52824</td><td>543</td><td>1390587</td><td>2.0</td><td>19.17</td><td>0.8582706881083191</td><td>9.859999656677246</td><td>500.9175079839428</td><td>194.49942283975219</td><td>9088-6102</td><td>1.7000000476837158</td><td>nan</td></tr>\n",
       "<tr><td>9088</td><td>6101</td><td>313158</td><td>243.609781443</td><td>25.096398041</td><td>0.048095</td><td>0.949483</td><td>36.6585</td><td>8328530000.0</td><td>-20.0297</td><td>1575</td><td>53493</td><td>234</td><td>1386930</td><td>2.0</td><td>41.77</td><td>0.9191805122500935</td><td>10.050000190734863</td><td>471.61022597161013</td><td>701.0422277956367</td><td>9088-6101</td><td>1.1100000143051147</td><td>nan</td></tr>\n",
       "<tr><td>9088</td><td>9101</td><td>280517</td><td>241.256482028</td><td>26.1208811998</td><td>0.0263001</td><td>0.462014</td><td>41.3743</td><td>3231490000.0</td><td>-19.0058</td><td>1392</td><td>52822</td><td>42</td><td>1385259</td><td>2.0</td><td>32.0</td><td>0.8478027188838436</td><td>10.079999923706055</td><td>305.5681171062784</td><td>323.6090391494535</td><td>9088-9101</td><td>3.9800000190734863</td><td>nan</td></tr>\n",
       "<tr><td>9876</td><td>12705</td><td>483318</td><td>196.061751441</td><td>26.1161917315</td><td>0.0248512</td><td>0.75278</td><td>100.635</td><td>2565150000.0</td><td>-18.5549</td><td>2242</td><td>54153</td><td>257</td><td>2240651</td><td>2.0</td><td>138.42</td><td>0.8597587047390653</td><td>9.399999618530273</td><td>281.0387614376503</td><td>416.2411926157631</td><td>9876-12705</td><td>0.8700000047683716</td><td>nan</td></tr>\n",
       "<tr><td>9876</td><td>3702</td><td>482870</td><td>194.57766144</td><td>27.3108172554</td><td>0.0247218</td><td>0.62533</td><td>140.551</td><td>1969380000.0</td><td>-18.4757</td><td>2241</td><td>54169</td><td>154</td><td>2226162</td><td>2.0</td><td>100.31</td><td>0.5993704437450239</td><td>9.289999961853027</td><td>324.2091631891746</td><td>392.126497770306</td><td>9876-3702</td><td>0.7699999809265137</td><td>nan</td></tr>\n",
       "<tr><td>8154</td><td>12703</td><td>40006</td><td>45.6984025268</td><td>0.964835657488</td><td>0.0396589</td><td>0.479848</td><td>171.466</td><td>1666230000.0</td><td>-18.6712</td><td>411</td><td>51817</td><td>452</td><td>2545</td><td>2.0</td><td>66.99</td><td>0.6509642479704317</td><td>9.65999984741211</td><td>152.73237568521128</td><td>168.6894895627707</td><td>8154-12703</td><td>0.6899999976158142</td><td>nan</td></tr>\n",
       "<tr><td>8154</td><td>12705</td><td>40007</td><td>45.598159228</td><td>0.97929394383</td><td>0.0283309</td><td>0.469094</td><td>37.5617</td><td>8019340000.0</td><td>-20.2137</td><td>411</td><td>51817</td><td>453</td><td>2525</td><td>2.0</td><td>66.0</td><td>0.7139203377317583</td><td>9.9399995803833</td><td>291.00437217510284</td><td>271.7550557277225</td><td>8154-12705</td><td>2.640000104904175</td><td>nan</td></tr>\n",
       "</table>"
      ],
      "text/plain": [
       "<QTable length=540>\n",
       "MaNGA_plate MaNGA_IFU NSAID  ...   galID           FHI         Total_Ha_flux\n",
       "                             ...                                            \n",
       "   int64      int64   int64  ...  bytes12        float64          float64   \n",
       "----------- --------- ------ ... ---------- ------------------ -------------\n",
       "       8939     12704 315868 ... 8939-12704 14.739999771118164           nan\n",
       "       9507     12704 647713 ... 9507-12704  1.909999966621399           nan\n",
       "       8942     12703 231299 ... 8942-12703 1.4700000286102295           nan\n",
       "       8940     12702 173375 ... 8940-12702   4.21999979019165           nan\n",
       "       8982     12702 484109 ... 8982-12702 0.3799999952316284           nan\n",
       "       9493     12702 407342 ... 9493-12702  1.690000057220459           nan\n",
       "       8934     12702 483200 ... 8934-12702 0.6899999976158142           nan\n",
       "       9507     12701 316095 ... 9507-12701  3.809999942779541           nan\n",
       "       8322      3701 443125 ...  8322-3701 2.2899999618530273           nan\n",
       "        ...       ...    ... ...        ...                ...           ...\n",
       "       8552      3702 340771 ...  8552-3702 0.4399999976158142           nan\n",
       "       9044      6101 334455 ...  9044-6101 3.0399999618530273           nan\n",
       "       9088      1901 313897 ...  9088-1901 0.8799999952316284           nan\n",
       "       9088      6102 281206 ...  9088-6102 1.7000000476837158           nan\n",
       "       9088      6101 313158 ...  9088-6101 1.1100000143051147           nan\n",
       "       9088      9101 280517 ...  9088-9101 3.9800000190734863           nan\n",
       "       9876     12705 483318 ... 9876-12705 0.8700000047683716           nan\n",
       "       9876      3702 482870 ...  9876-3702 0.7699999809265137           nan\n",
       "       8154     12703  40006 ... 8154-12703 0.6899999976158142           nan\n",
       "       8154     12705  40007 ... 8154-12705  2.640000104904175           nan"
      ]
     },
     "execution_count": 15,
     "metadata": {},
     "output_type": "execute_result"
    }
   ],
   "source": [
    "masterList"
   ]
  },
  {
   "cell_type": "code",
   "execution_count": 18,
   "metadata": {},
   "outputs": [],
   "source": [
    "masterList.write(\"masterList.txt\", format = \"ascii.commented_header\")"
   ]
  },
  {
   "cell_type": "code",
   "execution_count": 100,
   "metadata": {},
   "outputs": [],
   "source": [
    "##Possible issues: I'm using the smaller table so how would the galID[i] work in that case? \n",
    "                #It wouldn't find all the galIDs I think? so do I need an if statement?\n",
    "import os\n",
    "\n",
    "for i in range(len(masterList)):\n",
    "    map_filename = 'data/manga-' + masterList['galID'][i] + '-MAPS-HYB10-GAU-MILESHC.fits'\n",
    "    if os.path.exists(map_filename):\n",
    "        maps = fits.open(map_filename, format = 'fits')\n",
    "        Ha_mask_extension = maps['EMLINE_GFLUX'].header['QUALDATA']\n",
    "        masked_Ha_map = ma.array(Ha_map, mask=maps[Ha_mask_extension].data[18] > 0)\n",
    "        total_Ha_flux = np.sum(masked_Ha_map)\n",
    "        masterList['Total_Ha_flux'][i] = total_Ha_flux  "
   ]
  },
  {
   "cell_type": "markdown",
   "metadata": {},
   "source": [
    "download data to bluehive account\n"
   ]
  }
 ],
 "metadata": {
  "kernelspec": {
   "display_name": "Python 3",
   "language": "python",
   "name": "python3"
  },
  "language_info": {
   "codemirror_mode": {
    "name": "ipython",
    "version": 3
   },
   "file_extension": ".py",
   "mimetype": "text/x-python",
   "name": "python",
   "nbconvert_exporter": "python",
   "pygments_lexer": "ipython3",
   "version": "3.8.3"
  }
 },
 "nbformat": 4,
 "nbformat_minor": 2
}
