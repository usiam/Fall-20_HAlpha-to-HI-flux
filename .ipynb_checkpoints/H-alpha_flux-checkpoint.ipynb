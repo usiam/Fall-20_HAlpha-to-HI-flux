{
 "cells": [
  {
   "cell_type": "code",
   "execution_count": 17,
   "metadata": {},
   "outputs": [],
   "source": [
    "from astropy.table import QTable, Table\n",
    "import numpy as np\n",
    "import matplotlib.pyplot as plt\n",
    "from astropy.io import fits\n",
    "import numpy.ma as ma"
   ]
  },
  {
   "cell_type": "code",
   "execution_count": 70,
   "metadata": {},
   "outputs": [],
   "source": [
    "master_list = QTable.read(\"DRPall-master_file.txt\", format=\"ascii.ecsv\")\n",
    "gbtHI = Table.read('mangaHIall.fits', format='fits')\n",
    "alfaHI = Table.read('manga_dr15_alfalfa.fits', format='fits')\n",
    "maps = fits.open('data/manga-10001-12701-MAPS-HYB10-GAU-MILESHC.fits', format = 'fits')\n",
    "#map_filename = 'data/manga-' + galID[i] + '-MAPS-HYB10-GAU-MILESHC.fits'\n",
    "#maps = fits.open(map_filename, format = 'fits')"
   ]
  },
  {
   "cell_type": "code",
   "execution_count": 71,
   "metadata": {
    "scrolled": true
   },
   "outputs": [],
   "source": [
    "master_list['galID'] = np.empty(len(master_list), dtype='<S12')\n",
    "\n",
    "for i in range(len(master_list)):\n",
    "    galID = str(master_list['MaNGA_plate'][i]) + str('-') +  str(master_list['MaNGA_IFU'][i])\n",
    "    master_list['galID'][i] = galID"
   ]
  },
  {
   "cell_type": "markdown",
   "metadata": {},
   "source": [
    "#### Work to do by Thursday 27th Aug\n",
    ">1) Install marvin\\\n",
    "2) Look at cheatsheet and import maps\\\n",
    "3) work with the map values for one of the galaxies\\\n",
    "4) make a loop for all galaxies\n",
    "5) find ratio to hI flux"
   ]
  },
  {
   "cell_type": "code",
   "execution_count": 72,
   "metadata": {},
   "outputs": [],
   "source": [
    "master_list['FHI'] = np.NaN*np.ones(len(master_list), dtype = float)\n",
    "\n",
    "for i in range(len(alfaHI)):\n",
    "    galID = alfaHI['PLATEIFU'][i]\n",
    "    plate, IFU = galID.split('-')\n",
    "    \n",
    "    # Find the corresponding row index for this galaxy in the MaNGA data table\n",
    "    plate_boolean = master_list['MaNGA_plate'] == int(plate)\n",
    "    IFU_boolean = master_list['MaNGA_IFU'] == int(IFU)\n",
    "    HI_boolean = np.logical_and(plate_boolean, IFU_boolean)\n",
    "   \n",
    "    master_list['FHI'][HI_boolean] = alfaHI['FHI'][i]\n",
    "  "
   ]
  },
  {
   "cell_type": "code",
   "execution_count": 73,
   "metadata": {},
   "outputs": [],
   "source": [
    "for i in range(len(gbtHI)):\n",
    "    galID = gbtHI['plateifu'][i]\n",
    "    plate, IFU = galID.split('-')\n",
    "    \n",
    "    # Find the corresponding row index for this galaxy in the MaNGA data table\n",
    "    plate_boolean = master_list['MaNGA_plate'] == int(plate)\n",
    "    IFU_boolean = master_list['MaNGA_IFU'] == int(IFU)\n",
    "    HI_boolean = np.logical_and(plate_boolean, IFU_boolean)\n",
    "   \n",
    "    master_list['FHI'][HI_boolean] = gbtHI['FHI'][i]\n",
    "  "
   ]
  },
  {
   "cell_type": "code",
   "execution_count": 74,
   "metadata": {},
   "outputs": [],
   "source": [
    "masterlistHI_boolean = np.isfinite(master_list['FHI'])\n",
    "\n",
    "masterlistHI = master_list[masterlistHI_boolean]"
   ]
  },
  {
   "cell_type": "code",
   "execution_count": 75,
   "metadata": {},
   "outputs": [],
   "source": [
    "masterlist_boolean = masterlistHI['FHI'] > 0\n",
    "masterList = masterlistHI[masterlist_boolean]"
   ]
  },
  {
   "cell_type": "code",
   "execution_count": 76,
   "metadata": {},
   "outputs": [],
   "source": [
    "#maps.info() #gives all the layers in the map fits file\n",
    "Ha_map = maps['EMLINE_GFLUX'].data[18] # H-alpha is the 19th layer of the maps in 'EMLINE_GLFUX'\n",
    "#maps['EMLINE_GFLUX'].header #header info inside EMLINE GFLUX"
   ]
  },
  {
   "cell_type": "code",
   "execution_count": 77,
   "metadata": {},
   "outputs": [],
   "source": [
    "# H-alpha mask extension #QUALDATA gives the 'quality' of the data \n",
    "Ha_mask_extension = maps['EMLINE_GFLUX'].header['QUALDATA']\n",
    "masked_Ha_map = ma.array(Ha_map, mask=maps[Ha_mask_extension].data[18] > 0)"
   ]
  },
  {
   "cell_type": "markdown",
   "metadata": {},
   "source": [
    "1) See the data (plot)\\ (plt.imshow)\n",
    "2) Add up the flux values in the map arrays\\\n",
    "3) Write a loop for all the data \n"
   ]
  },
  {
   "cell_type": "code",
   "execution_count": 78,
   "metadata": {},
   "outputs": [
    {
     "data": {
      "image/png": "[encoded data removed]",
      "text/plain": [
       "<Figure size 720x720 with 2 Axes>"
      ]
     },
     "metadata": {
      "needs_background": "light"
     },
     "output_type": "display_data"
    }
   ],
   "source": [
    "fig, axs = plt.subplots(1, 2, figsize = (10,10))\n",
    "axs[0].imshow(Ha_map, origin = 'lower')\n",
    "axs[1].imshow(masked_Ha_map, origin = 'lower')\n",
    "plt.show()"
   ]
  },
  {
   "cell_type": "code",
   "execution_count": 79,
   "metadata": {},
   "outputs": [],
   "source": [
    "total_Ha_flux = np.sum(masked_Ha_map)"
   ]
  },
  {
   "cell_type": "code",
   "execution_count": 80,
   "metadata": {},
   "outputs": [
    {
     "data": {
      "text/plain": [
       "1898.2083"
      ]
     },
     "execution_count": 80,
     "metadata": {},
     "output_type": "execute_result"
    }
   ],
   "source": [
    "total_Ha_flux"
   ]
  },
  {
   "cell_type": "code",
   "execution_count": 81,
   "metadata": {},
   "outputs": [],
   "source": [
    "masterList['Total_Ha_flux'] = np.empty(len(masterList), dtype = np.int)"
   ]
  },
  {
   "cell_type": "code",
   "execution_count": 91,
   "metadata": {},
   "outputs": [
    {
     "data": {
      "text/html": [
       "<i>QTable length=4514</i>\n",
       "<table id=\"table2802270587824\" class=\"table-striped table-bordered table-condensed\">\n",
       "<thead><tr><th>MaNGA_plate</th><th>MaNGA_IFU</th><th>NSAID</th><th>ra</th><th>dec</th><th>redshift</th><th>ba</th><th>phi</th><th>Mstar</th><th>rabsmag</th><th>plate</th><th>MJD</th><th>fiberID</th><th>index</th><th>imc</th><th>aimc</th><th>smoothness_score</th><th>logHI</th><th>WF50</th><th>WP20</th><th>galID</th><th>FHI</th></tr></thead>\n",
       "<thead><tr><th></th><th></th><th></th><th>deg</th><th>deg</th><th></th><th></th><th>deg</th><th>solMass</th><th></th><th></th><th></th><th></th><th></th><th></th><th></th><th></th><th>dex(solMass)</th><th>km / s</th><th>km / s</th><th></th><th></th></tr></thead>\n",
       "<thead><tr><th>int64</th><th>int64</th><th>int64</th><th>float64</th><th>float64</th><th>float64</th><th>float64</th><th>float64</th><th>float64</th><th>float64</th><th>int64</th><th>int64</th><th>int64</th><th>int64</th><th>float64</th><th>float64</th><th>float64</th><th>float64</th><th>float64</th><th>float64</th><th>bytes12</th><th>float64</th></tr></thead>\n",
       "<tr><td>8939</td><td>12704</td><td>315868</td><td>125.687370639</td><td>24.2969703898</td><td>0.012853</td><td>0.844731</td><td>122.186</td><td>11279500000.0</td><td>-20.2376</td><td>1585</td><td>52962</td><td>25</td><td>1819519</td><td>2.0</td><td>-2.0</td><td>nan</td><td>10.050000190734863</td><td>450.30642298214684</td><td>534.3885351572364</td><td>8939-12704</td><td>14.739999771118164</td></tr>\n",
       "<tr><td>9507</td><td>12704</td><td>647713</td><td>129.600036621</td><td>25.7545013428</td><td>0.0181814</td><td>0.850208</td><td>49.2228</td><td>15330500000.0</td><td>-20.4859</td><td>1930</td><td>53347</td><td>477</td><td>1855126</td><td>2.0</td><td>26.45</td><td>nan</td><td>9.470000267028809</td><td>157.66071995536652</td><td>180.45504091276888</td><td>9507-12704</td><td>1.909999966621399</td></tr>\n",
       "<tr><td>8942</td><td>12703</td><td>231299</td><td>125.21338865</td><td>28.4058888443</td><td>0.0154449</td><td>0.461519</td><td>115.538</td><td>550312000.0</td><td>-17.0032</td><td>1207</td><td>52672</td><td>201</td><td>1035105</td><td>2.0</td><td>55.1</td><td>nan</td><td>9.199999809265137</td><td>204.02864720354242</td><td>278.4258334766573</td><td>8942-12703</td><td>1.4700000286102295</td></tr>\n",
       "<tr><td>9512</td><td>12703</td><td>57296</td><td>140.009042427</td><td>1.03830336226</td><td>0.0170264</td><td>0.703029</td><td>17.2008</td><td>51986200000.0</td><td>-21.3582</td><td>473</td><td>51929</td><td>86</td><td>184190</td><td>1.0</td><td>1.0</td><td>nan</td><td>-999.0</td><td>-1404.7448410992704</td><td>-1404.7448410992704</td><td>9512-12703</td><td>-999.0</td></tr>\n",
       "<tr><td>8153</td><td>12703</td><td>39428</td><td>41.0682926204</td><td>0.341599264633</td><td>0.0220552</td><td>0.692925</td><td>154.034</td><td>2972350000.0</td><td>-19.7777</td><td>409</td><td>51871</td><td>347</td><td>772008</td><td>1.0</td><td>1.0</td><td>nan</td><td>-999.0</td><td>-1385.5570062798865</td><td>-1385.5570062798865</td><td>8153-12703</td><td>-999.0</td></tr>\n",
       "<tr><td>8940</td><td>12702</td><td>173375</td><td>120.087417603</td><td>26.613527298</td><td>0.0267379</td><td>0.734859</td><td>114.25</td><td>44110400000.0</td><td>-21.337</td><td>929</td><td>52581</td><td>142</td><td>878643</td><td>2.0</td><td>0.0</td><td>nan</td><td>10.140000343322754</td><td>594.2025475719039</td><td>549.9691073060053</td><td>8940-12702</td><td>4.21999979019165</td></tr>\n",
       "<tr><td>8982</td><td>12702</td><td>484109</td><td>202.623387924</td><td>26.5145483668</td><td>0.0250234</td><td>0.391208</td><td>48.8718</td><td>238771000.0</td><td>-17.2953</td><td>2244</td><td>53795</td><td>637</td><td>2226374</td><td>2.0</td><td>115.14</td><td>nan</td><td>9.050000190734863</td><td>68.45576811268691</td><td>193.4147099056868</td><td>8982-12702</td><td>0.3799999952316284</td></tr>\n",
       "<tr><td>9493</td><td>12702</td><td>407342</td><td>129.012733645</td><td>23.9118395792</td><td>0.0121797</td><td>0.435525</td><td>46.151</td><td>210392000.0</td><td>-16.4453</td><td>1929</td><td>53349</td><td>526</td><td>1876778</td><td>2.0</td><td>105.88</td><td>nan</td><td>9.069999694824219</td><td>156.63592510904022</td><td>213.2914724889058</td><td>9493-12702</td><td>1.690000057220459</td></tr>\n",
       "<tr><td>9507</td><td>12702</td><td>316371</td><td>128.494561948</td><td>26.1067972709</td><td>0.0586735</td><td>0.903494</td><td>53.6503</td><td>20917800000.0</td><td>-20.8619</td><td>1586</td><td>52945</td><td>614</td><td>1151347</td><td>2.0</td><td>26.45</td><td>nan</td><td>-999.0</td><td>-2330.840601044011</td><td>-2330.840601044011</td><td>9507-12702</td><td>-999.0</td></tr>\n",
       "<tr><td>...</td><td>...</td><td>...</td><td>...</td><td>...</td><td>...</td><td>...</td><td>...</td><td>...</td><td>...</td><td>...</td><td>...</td><td>...</td><td>...</td><td>...</td><td>...</td><td>...</td><td>...</td><td>...</td><td>...</td><td>...</td><td>...</td></tr>\n",
       "<tr><td>9871</td><td>12703</td><td>684471</td><td>229.355528461</td><td>42.9564578142</td><td>0.0178878</td><td>0.851837</td><td>90.7422</td><td>1792110000.0</td><td>-18.5174</td><td>1678</td><td>53433</td><td>428</td><td>1374613</td><td>2.0</td><td>101.48</td><td>1.3326071340372705</td><td>nan</td><td>nan</td><td>nan</td><td>9871-12703</td><td>nan</td></tr>\n",
       "<tr><td>9871</td><td>3702</td><td>340721</td><td>228.295074885</td><td>43.2617104767</td><td>0.0277629</td><td>0.409755</td><td>147.124</td><td>7694170000.0</td><td>-19.4772</td><td>1677</td><td>53148</td><td>111</td><td>1374589</td><td>2.0</td><td>21.17</td><td>0.642007084953972</td><td>nan</td><td>nan</td><td>nan</td><td>9871-3702</td><td>nan</td></tr>\n",
       "<tr><td>9871</td><td>6103</td><td>250058</td><td>226.989232854</td><td>41.9023394247</td><td>0.0168608</td><td>0.500021</td><td>83.6062</td><td>1354370000.0</td><td>-17.9542</td><td>1291</td><td>52738</td><td>503</td><td>899197</td><td>2.0</td><td>41.66</td><td>0.6003451535288726</td><td>nan</td><td>nan</td><td>nan</td><td>9871-6103</td><td>nan</td></tr>\n",
       "<tr><td>9871</td><td>3704</td><td>250076</td><td>227.386987163</td><td>42.4899176174</td><td>0.0585718</td><td>0.929693</td><td>76.3168</td><td>29162700000.0</td><td>-20.7614</td><td>1291</td><td>52738</td><td>602</td><td>1406735</td><td>1.0</td><td>1.0</td><td>1.8711861275337838</td><td>nan</td><td>nan</td><td>nan</td><td>9871-3704</td><td>nan</td></tr>\n",
       "<tr><td>9871</td><td>12705</td><td>632489</td><td>228.372167425</td><td>42.3302546015</td><td>0.0279527</td><td>0.786014</td><td>138.002</td><td>19141100000.0</td><td>-20.6469</td><td>0</td><td>0</td><td>0</td><td>-1</td><td>-1.0</td><td>-1.0</td><td>0.5709523138090463</td><td>nan</td><td>nan</td><td>nan</td><td>9871-12705</td><td>nan</td></tr>\n",
       "<tr><td>9871</td><td>3701</td><td>250077</td><td>227.360498507</td><td>42.5954051455</td><td>0.0174688</td><td>0.656211</td><td>142.808</td><td>1111690000.0</td><td>-17.9397</td><td>1291</td><td>52738</td><td>605</td><td>1406730</td><td>2.0</td><td>70.9</td><td>0.6474827031542238</td><td>nan</td><td>nan</td><td>nan</td><td>9871-3701</td><td>nan</td></tr>\n",
       "<tr><td>9871</td><td>1902</td><td>340700</td><td>229.230336571</td><td>43.1094638412</td><td>0.0182005</td><td>0.301159</td><td>60.6678</td><td>681584000.0</td><td>-17.5368</td><td>1677</td><td>53148</td><td>24</td><td>1408891</td><td>2.0</td><td>62.44</td><td>0.8611689579951298</td><td>nan</td><td>nan</td><td>nan</td><td>9871-1902</td><td>nan</td></tr>\n",
       "<tr><td>9871</td><td>12701</td><td>340727</td><td>227.329239945</td><td>42.6750722013</td><td>0.0186231</td><td>0.494934</td><td>159.944</td><td>1086220000.0</td><td>-17.8843</td><td>1677</td><td>53148</td><td>125</td><td>-1</td><td>-1.0</td><td>-1.0</td><td>1.2859757872620494</td><td>nan</td><td>nan</td><td>nan</td><td>9871-12701</td><td>nan</td></tr>\n",
       "<tr><td>9871</td><td>6101</td><td>250172</td><td>227.863793703</td><td>41.0899929929</td><td>0.0307609</td><td>0.78626</td><td>114.293</td><td>12765500000.0</td><td>-20.4773</td><td>1292</td><td>52736</td><td>354</td><td>895944</td><td>2.0</td><td>37.88</td><td>0.46369597022213155</td><td>nan</td><td>nan</td><td>nan</td><td>9871-6101</td><td>nan</td></tr>\n",
       "<tr><td>9871</td><td>9101</td><td>340725</td><td>227.547504702</td><td>42.607145053</td><td>0.0172671</td><td>0.364272</td><td>66.5267</td><td>1459490000.0</td><td>-17.9839</td><td>1677</td><td>53148</td><td>121</td><td>1369896</td><td>2.0</td><td>65.08</td><td>0.8548698519483025</td><td>nan</td><td>nan</td><td>nan</td><td>9871-9101</td><td>nan</td></tr>\n",
       "</table>"
      ],
      "text/plain": [
       "<QTable length=4514>\n",
       "MaNGA_plate MaNGA_IFU NSAID  ...   galID           FHI        \n",
       "                             ...                              \n",
       "   int64      int64   int64  ...  bytes12        float64      \n",
       "----------- --------- ------ ... ---------- ------------------\n",
       "       8939     12704 315868 ... 8939-12704 14.739999771118164\n",
       "       9507     12704 647713 ... 9507-12704  1.909999966621399\n",
       "       8942     12703 231299 ... 8942-12703 1.4700000286102295\n",
       "       9512     12703  57296 ... 9512-12703             -999.0\n",
       "       8153     12703  39428 ... 8153-12703             -999.0\n",
       "       8940     12702 173375 ... 8940-12702   4.21999979019165\n",
       "       8982     12702 484109 ... 8982-12702 0.3799999952316284\n",
       "       9493     12702 407342 ... 9493-12702  1.690000057220459\n",
       "       9507     12702 316371 ... 9507-12702             -999.0\n",
       "        ...       ...    ... ...        ...                ...\n",
       "       9871     12703 684471 ... 9871-12703                nan\n",
       "       9871      3702 340721 ...  9871-3702                nan\n",
       "       9871      6103 250058 ...  9871-6103                nan\n",
       "       9871      3704 250076 ...  9871-3704                nan\n",
       "       9871     12705 632489 ... 9871-12705                nan\n",
       "       9871      3701 250077 ...  9871-3701                nan\n",
       "       9871      1902 340700 ...  9871-1902                nan\n",
       "       9871     12701 340727 ... 9871-12701                nan\n",
       "       9871      6101 250172 ...  9871-6101                nan\n",
       "       9871      9101 340725 ...  9871-9101                nan"
      ]
     },
     "execution_count": 91,
     "metadata": {},
     "output_type": "execute_result"
    }
   ],
   "source": [
    "master_list"
   ]
  },
  {
   "cell_type": "code",
   "execution_count": 99,
   "metadata": {},
   "outputs": [
    {
     "name": "stdout",
     "output_type": "stream",
     "text": [
      "644\n"
     ]
    }
   ],
   "source": [
    "for i in range(len(master_list)):\n",
    "    if master_list['galID'][i] == '10001-12701':\n",
    "        print(i)"
   ]
  },
  {
   "cell_type": "code",
   "execution_count": 100,
   "metadata": {},
   "outputs": [],
   "source": [
    "# for i in range(len(masterList)):\n",
    "#     map_filename = 'data/manga-' + masterList['galID'][i] + '-MAPS-HYB10-GAU-MILESHC.fits'\n",
    "#     maps = fits.open(map_filename, format = 'fits')\n",
    "#     Ha_mask_extension = maps['EMLINE_GFLUX'].header['QUALDATA']\n",
    "#     masked_Ha_map = ma.array(Ha_map, mask=maps[Ha_mask_extension].data[18] > 0)\n",
    "#     total_Ha_flux = np.sum(masked_Ha_map)\n",
    "#     masterList['Total_Ha_flux'][i] = total_Ha_flux  "
   ]
  },
  {
   "cell_type": "code",
   "execution_count": null,
   "metadata": {},
   "outputs": [],
   "source": []
  }
 ],
 "metadata": {
  "kernelspec": {
   "display_name": "Python 3",
   "language": "python",
   "name": "python3"
  },
  "language_info": {
   "codemirror_mode": {
    "name": "ipython",
    "version": 3
   },
   "file_extension": ".py",
   "mimetype": "text/x-python",
   "name": "python",
   "nbconvert_exporter": "python",
   "pygments_lexer": "ipython3",
   "version": "3.8.3"
  }
 },
 "nbformat": 4,
 "nbformat_minor": 2
}
